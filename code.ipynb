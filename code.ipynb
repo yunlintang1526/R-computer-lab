{
 "cells": [
  {
   "cell_type": "markdown",
   "metadata": {},
   "source": [
    "# HW2 Code Part (Investigation)"
   ]
  },
  {
   "cell_type": "markdown",
   "metadata": {},
   "source": [
    "Group Member:\n",
    "- Yunlin Tang a14664383\n",
    "- Yong Liu a15126460\n",
    "- Jian Jiao a14525939"
   ]
  },
  {
   "cell_type": "markdown",
   "metadata": {},
   "source": [
    "# Set Up"
   ]
  },
  {
   "cell_type": "code",
   "execution_count": 1,
   "metadata": {},
   "outputs": [
    {
     "name": "stderr",
     "output_type": "stream",
     "text": [
      "\n",
      "Attaching package: 'dplyr'\n",
      "\n",
      "The following objects are masked from 'package:plyr':\n",
      "\n",
      "    arrange, count, desc, failwith, id, mutate, rename, summarise,\n",
      "    summarize\n",
      "\n",
      "The following objects are masked from 'package:stats':\n",
      "\n",
      "    filter, lag\n",
      "\n",
      "The following objects are masked from 'package:base':\n",
      "\n",
      "    intersect, setdiff, setequal, union\n",
      "\n"
     ]
    }
   ],
   "source": [
    "# import library\n",
    "library(plyr)\n",
    "library(dplyr)\n",
    "library(tidyr)"
   ]
  },
  {
   "cell_type": "code",
   "execution_count": 2,
   "metadata": {},
   "outputs": [],
   "source": [
    "# read the data\n",
    "survey <- read.table('videodata.txt', header=TRUE)\n",
    "followup <- read.table('videoMultiple.txt',header=TRUE)"
   ]
  },
  {
   "cell_type": "code",
   "execution_count": 3,
   "metadata": {},
   "outputs": [
    {
     "data": {
      "text/html": [
       "91"
      ],
      "text/latex": [
       "91"
      ],
      "text/markdown": [
       "91"
      ],
      "text/plain": [
       "[1] 91"
      ]
     },
     "metadata": {},
     "output_type": "display_data"
    },
    {
     "data": {
      "text/html": [
       "91"
      ],
      "text/latex": [
       "91"
      ],
      "text/markdown": [
       "91"
      ],
      "text/plain": [
       "[1] 91"
      ]
     },
     "metadata": {},
     "output_type": "display_data"
    }
   ],
   "source": [
    "# check how many rows in both dataset\n",
    "nrow(survey)\n",
    "nrow(followup)"
   ]
  },
  {
   "cell_type": "code",
   "execution_count": 4,
   "metadata": {},
   "outputs": [
    {
     "data": {
      "text/html": [
       "21"
      ],
      "text/latex": [
       "21"
      ],
      "text/markdown": [
       "21"
      ],
      "text/plain": [
       "[1] 21"
      ]
     },
     "metadata": {},
     "output_type": "display_data"
    }
   ],
   "source": [
    "length(followup)"
   ]
  },
  {
   "cell_type": "markdown",
   "metadata": {},
   "source": [
    "# Scenario 1"
   ]
  },
  {
   "cell_type": "markdown",
   "metadata": {},
   "source": [
    "Begin by providing an estimate for the fraction of students who played a video game in the week prior to the survey. Provide an interval estimate as well as a point estimate for this proportion."
   ]
  },
  {
   "cell_type": "code",
   "execution_count": 5,
   "metadata": {},
   "outputs": [
    {
     "data": {
      "text/html": [
       "0.373626373626374"
      ],
      "text/latex": [
       "0.373626373626374"
      ],
      "text/markdown": [
       "0.373626373626374"
      ],
      "text/plain": [
       "[1] 0.3736264"
      ]
     },
     "metadata": {},
     "output_type": "display_data"
    }
   ],
   "source": [
    "# generate a vector of 0 and 1 to store info for whom played video game\n",
    "x <- ifelse(survey$time>0, 1, 0)\n",
    "\n",
    "# calculate for the sample proportion(sample mean)\n",
    "x_bar <- mean(x)\n",
    "\n",
    "# show the result\n",
    "# it estimates the population proportion\n",
    "x_bar"
   ]
  },
  {
   "cell_type": "code",
   "execution_count": 6,
   "metadata": {},
   "outputs": [
    {
     "data": {
      "text/html": [
       "'s^2: 0.236630036630037'"
      ],
      "text/latex": [
       "'s\\textasciicircum{}2: 0.236630036630037'"
      ],
      "text/markdown": [
       "'s^2: 0.236630036630037'"
      ],
      "text/plain": [
       "[1] \"s^2: 0.236630036630037\""
      ]
     },
     "metadata": {},
     "output_type": "display_data"
    },
    {
     "data": {
      "text/html": [
       "'s: 0.486446334789395'"
      ],
      "text/latex": [
       "'s: 0.486446334789395'"
      ],
      "text/markdown": [
       "'s: 0.486446334789395'"
      ],
      "text/plain": [
       "[1] \"s: 0.486446334789395\""
      ]
     },
     "metadata": {},
     "output_type": "display_data"
    }
   ],
   "source": [
    "# since population variance is unkown, use S^2 instead where S^2 is an unbiased estimator of variance\n",
    "# use the built-in function \"var()\" to calculate sample variance\n",
    "s2 <- var(x)\n",
    "\n",
    "# calculate s(sample standard deviation) from s^2\n",
    "s <- sqrt(s2)\n",
    "\n",
    "# show the result\n",
    "paste('s^2:', s2)\n",
    "paste('s:',s)"
   ]
  },
  {
   "cell_type": "code",
   "execution_count": 7,
   "metadata": {},
   "outputs": [
    {
     "data": {
      "text/html": [
       "<span style=white-space:pre-wrap>'68% approximate confidence interval: ( 0.322632941962506 ,  0.424619805290241 )'</span>"
      ],
      "text/latex": [
       "'68\\% approximate confidence interval: ( 0.322632941962506 ,  0.424619805290241 )'"
      ],
      "text/markdown": [
       "<span style=white-space:pre-wrap>'68% approximate confidence interval: ( 0.322632941962506 ,  0.424619805290241 )'</span>"
      ],
      "text/plain": [
       "[1] \"68% approximate confidence interval: ( 0.322632941962506 ,  0.424619805290241 )\""
      ]
     },
     "metadata": {},
     "output_type": "display_data"
    },
    {
     "data": {
      "text/html": [
       "<span style=white-space:pre-wrap>'95% approximate confidence interval: ( 0.271639510298638 ,  0.475613236954109 )'</span>"
      ],
      "text/latex": [
       "'95\\% approximate confidence interval: ( 0.271639510298638 ,  0.475613236954109 )'"
      ],
      "text/markdown": [
       "<span style=white-space:pre-wrap>'95% approximate confidence interval: ( 0.271639510298638 ,  0.475613236954109 )'</span>"
      ],
      "text/plain": [
       "[1] \"95% approximate confidence interval: ( 0.271639510298638 ,  0.475613236954109 )\""
      ]
     },
     "metadata": {},
     "output_type": "display_data"
    }
   ],
   "source": [
    "# calculate the approximate 68% confidence interval for the population proportion\n",
    "left_68 = x_bar-s/sqrt(nrow(survey))\n",
    "right_68 = x_bar+s/sqrt(nrow(survey))\n",
    "\n",
    "# calculate the approximate 95% confidence interval for the population proportion\n",
    "left_95 = x_bar-2*s/sqrt(nrow(survey))\n",
    "right_95 = x_bar+2*s/sqrt(nrow(survey))\n",
    "\n",
    "# show the result\n",
    "paste('68% approximate confidence interval: (', left_68, ', ', right_68,')')\n",
    "paste('95% approximate confidence interval: (', left_95, ', ', right_95,')')"
   ]
  },
  {
   "cell_type": "code",
   "execution_count": 8,
   "metadata": {},
   "outputs": [],
   "source": [
    "# TODO: BOOTSTRAP to check accuracy of estimators?"
   ]
  },
  {
   "cell_type": "code",
   "execution_count": null,
   "metadata": {},
   "outputs": [],
   "source": []
  },
  {
   "cell_type": "markdown",
   "metadata": {},
   "source": [
    "# Scenario 2"
   ]
  },
  {
   "cell_type": "markdown",
   "metadata": {},
   "source": [
    "Check to see how the amount of time spent playing vide games in the week prior to the survey compares to the reported frequency of play (daily, weekly, etc). How might the fact that there was an exam in the week prior to the survey affect your previous estimates and this comparison?"
   ]
  },
  {
   "cell_type": "code",
   "execution_count": 9,
   "metadata": {},
   "outputs": [
    {
     "data": {
      "image/png": "[encoded data removed]",
      "text/plain": [
       "Plot with title \"Histogram of Amount of Time in Daily Group\""
      ]
     },
     "metadata": {},
     "output_type": "display_data"
    }
   ],
   "source": [
    "# first check the distribution of amount of time in the Daily Group (group that contains people who responded \"1\" in \"Freq\")\n",
    "hist(subset(survey, freq == 1)$time, breaks=10, main='Histogram of Amount of Time in Daily Group',\n",
    "    xlab='Amount of Time Playing Video Game (hrs)')"
   ]
  },
  {
   "cell_type": "code",
   "execution_count": 10,
   "metadata": {},
   "outputs": [
    {
     "data": {
      "image/png": "[encoded data removed]",
      "text/plain": [
       "Plot with title \"Multiple Boxplots of Amount of Time to Play in Different Groups\""
      ]
     },
     "metadata": {},
     "output_type": "display_data"
    }
   ],
   "source": [
    "boxplot(subset(survey,freq==1)$time, subset(survey,freq==2)$time, subset(survey, freq==3)$time,\n",
    "       subset(survey,freq==4)$time, horizontal=TRUE, col=c('red','orange','green','blue'),\n",
    "       names=c('daily','weekly','monthly','semesterly'),\n",
    "       main='Multiple Boxplots of Amount of Time to Play in Different Groups',xlab='Amount of Time Playing in This Week(hrs)')"
   ]
  },
  {
   "cell_type": "markdown",
   "metadata": {},
   "source": [
    "The histogram indicates that most people only played 0-0.5 hours in this week. However it is odd since these people usually play video game daily which indicates that they should have greater amount of time to play in a week than 0.5 hours. Furthermore, the boxplot shows that the medians of amount of time playing in two groups (daily and weekly) are close. This is also odd since we expect that people playing daily should have greater amount in comparing to those weekly people. Thus we investigate further as shown below:"
   ]
  },
  {
   "cell_type": "code",
   "execution_count": 11,
   "metadata": {},
   "outputs": [
    {
     "data": {
      "image/png": "[encoded data removed]",
      "text/plain": [
       "Plot with title \"Bat Plot of Frequency of Play\""
      ]
     },
     "metadata": {},
     "output_type": "display_data"
    }
   ],
   "source": [
    "# extract the frequency vector from data\n",
    "freq <- survey$freq\n",
    "\n",
    "# plot the value\n",
    "barplot(table(freq), main='Bat Plot of Frequency of Play',\n",
    "       xlab='frequency of play', ylab='count of student',\n",
    "       names.arg=c('daily(1)','weekly(2)','monthly(3)','semesterly(4)','null(99)'))"
   ]
  },
  {
   "cell_type": "markdown",
   "metadata": {},
   "source": [
    "Since 1 and 2 represent the student usually play video game daily and weekly, it means that they will play video game in the week prior to survey if no other factors are affecting their usual habits. 3 represents the student usually play video game monthly which means that they have 1/4 probability will play in this week. 4 represents the student usually play video game semesterly, it indicates that they have 1/15 chance to play since one semester has 15 weeks. For those who answered 99 in this question, we just assume they will not play at all in this week. Based on this simple assumption, we reconstruct the proportions by extracting the new feature 'play a video game or not in usuall week' from the 'freq' feature (1 means the responder have played the video this week, 0 means he/she did not play video this week)."
   ]
  },
  {
   "cell_type": "code",
   "execution_count": 12,
   "metadata": {},
   "outputs": [],
   "source": [
    "# create a vector which stores the proportions (fraction of students who played a video game in the week)\n",
    "resample = NULL\n",
    "\n",
    "for (i in 1:2000)\n",
    "{\n",
    "    # vector for people who usually play video game in a week (fills with 1)\n",
    "    daily_weekly <- replicate(sum(freq == 1)+sum(freq == 2),1)\n",
    "    \n",
    "    # vector for people who usually play video game monthly (has prob. of 1/4 of selecting 1)\n",
    "    monthly <- sample(c(0,1), size=sum(freq == 3), prob=c(0.75, 0.25),replace=TRUE)\n",
    "    \n",
    "    # vector for people who usually play semesterly (has prob. of 1/15 of selecting 1)\n",
    "    semesterly <- sample(c(0,1), size=sum(freq == 4), prob=c(14/15, 1/15),replace=TRUE)\n",
    "    \n",
    "    # vector for people who does not answer the 'freq' question, assume they will not play in this week (fills with 0)\n",
    "    null <- replicate(sum(freq == 99), 0)\n",
    "    \n",
    "    # combine these vectors, and calculate the fraction of student who haved played in this week\n",
    "    resample[i] <- mean(c(daily_weekly, monthly, semesterly, null))\n",
    "}"
   ]
  },
  {
   "cell_type": "markdown",
   "metadata": {},
   "source": [
    "The sample proportion(sample mean) from the original sample is 0.37, which indicates there was only 37% people who have played a video game in this week in the sample of size 91. The histogram below shows the distribution of mean fractions of people who played video game in a week based on their respond in 'freq'. It indicates that it is rare to have 0.37 as fraction, which also means that there is other factor affecting the amount of time to play video game."
   ]
  },
  {
   "cell_type": "code",
   "execution_count": 13,
   "metadata": {},
   "outputs": [
    {
     "data": {
      "image/png": "[encoded data removed]",
      "text/plain": [
       "Plot with title \"Histogram of Proportions\""
      ]
     },
     "metadata": {},
     "output_type": "display_data"
    }
   ],
   "source": [
    "# show the histogram\n",
    "hist(resample, main='Histogram of Proportions', xlab='fraction of students who played', breaks=15)"
   ]
  },
  {
   "cell_type": "code",
   "execution_count": 14,
   "metadata": {},
   "outputs": [
    {
     "data": {
      "image/png": "[encoded data removed]",
      "text/plain": [
       "Plot with title \"Barplot of Responses from 'Play if busy'\""
      ]
     },
     "metadata": {},
     "output_type": "display_data"
    }
   ],
   "source": [
    "# visually show if students will still play video game if they are busy\n",
    "barplot(table(survey$busy),main=\"Barplot of Responses from 'Play if busy'\",\n",
    "       names.arg=(c('0=no','1=yes','99=not responded')),\n",
    "       ylab='count of responses')"
   ]
  },
  {
   "cell_type": "code",
   "execution_count": 15,
   "metadata": {},
   "outputs": [
    {
     "data": {
      "image/png": "[encoded data removed]",
      "text/plain": [
       "Plot with title \"Boxplots of Time to Play in Groups for whom Play Daily/Weekly\""
      ]
     },
     "metadata": {},
     "output_type": "display_data"
    }
   ],
   "source": [
    "# divide the dataset into two groups according to their responses in 'busy'\n",
    "busy_play <- subset(survey, busy==1)\n",
    "busy_noplay <- subset(survey, busy==0)\n",
    "\n",
    "# visually plot their amounts of play in this week for these two groups\n",
    "# these groups only contain people who also report their frequency of playing is daily and weekly\n",
    "boxplot(subset(busy_play,freq==1 | freq==2)$time, subset(busy_noplay,freq==1 | freq==2)$time, \n",
    "       horizontal=TRUE, col=c('red','orange'),\n",
    "       names=c('Play when Busy','Not Play when Busy'),\n",
    "       main='Boxplots of Time to Play in Groups for whom Play Daily/Weekly',xlab='Amount of Time Playing in This Week(hrs)')"
   ]
  },
  {
   "cell_type": "code",
   "execution_count": null,
   "metadata": {},
   "outputs": [],
   "source": []
  },
  {
   "cell_type": "code",
   "execution_count": null,
   "metadata": {},
   "outputs": [],
   "source": []
  },
  {
   "cell_type": "code",
   "execution_count": null,
   "metadata": {},
   "outputs": [],
   "source": []
  },
  {
   "cell_type": "markdown",
   "metadata": {},
   "source": [
    "# Scenario 3"
   ]
  },
  {
   "cell_type": "markdown",
   "metadata": {},
   "source": [
    "Consider making an interval estimate for the average amount of time spent playing video games in the week prior to the survey. Keep in mind the overall shape of the sample distribution. A simulation study may help determine the appropriateness of an interval estimate."
   ]
  },
  {
   "cell_type": "code",
   "execution_count": 5,
   "metadata": {},
   "outputs": [
    {
     "data": {
      "text/html": [
       "1.24285714285714"
      ],
      "text/latex": [
       "1.24285714285714"
      ],
      "text/markdown": [
       "1.24285714285714"
      ],
      "text/plain": [
       "[1] 1.242857"
      ]
     },
     "metadata": {},
     "output_type": "display_data"
    }
   ],
   "source": [
    "Time <- survey$time\n",
    "freq <- mean(Time)\n",
    "freq"
   ]
  },
  {
   "cell_type": "code",
   "execution_count": 6,
   "metadata": {},
   "outputs": [
    {
     "data": {
      "text/html": [
       "<dl class=dl-horizontal>\n",
       "\t<dt>2.5%</dt>\n",
       "\t\t<dd>1.24285714285714</dd>\n",
       "\t<dt>97.5%</dt>\n",
       "\t\t<dd>1.24285714285714</dd>\n",
       "</dl>\n"
      ],
      "text/latex": [
       "\\begin{description*}\n",
       "\\item[2.5\\textbackslash{}\\%] 1.24285714285714\n",
       "\\item[97.5\\textbackslash{}\\%] 1.24285714285714\n",
       "\\end{description*}\n"
      ],
      "text/markdown": [
       "2.5%\n",
       ":   1.2428571428571497.5%\n",
       ":   1.24285714285714\n",
       "\n"
      ],
      "text/plain": [
       "    2.5%    97.5% \n",
       "1.242857 1.242857 "
      ]
     },
     "metadata": {},
     "output_type": "display_data"
    },
    {
     "data": {
      "image/png": "[encoded data removed]",
      "text/plain": [
       "Plot with title \"Histogram of time\""
      ]
     },
     "metadata": {},
     "output_type": "display_data"
    }
   ],
   "source": [
    "# show the histogram\n",
    "hist(Time, main='Histogram of time',xlab='number of hours played', breaks = 30)\n",
    "quantile(freq, c(0.025, 0.975))"
   ]
  },
  {
   "cell_type": "code",
   "execution_count": 7,
   "metadata": {},
   "outputs": [],
   "source": [
    "boot_population <- rep(survey$time, length.out = 314)"
   ]
  },
  {
   "cell_type": "code",
   "execution_count": 8,
   "metadata": {},
   "outputs": [
    {
     "data": {
      "text/html": [
       "<dl class=dl-horizontal>\n",
       "\t<dt>2.5%</dt>\n",
       "\t\t<dd>0.616840659340659</dd>\n",
       "\t<dt>97.5%</dt>\n",
       "\t\t<dd>1.77700549450549</dd>\n",
       "</dl>\n"
      ],
      "text/latex": [
       "\\begin{description*}\n",
       "\\item[2.5\\textbackslash{}\\%] 0.616840659340659\n",
       "\\item[97.5\\textbackslash{}\\%] 1.77700549450549\n",
       "\\end{description*}\n"
      ],
      "text/markdown": [
       "2.5%\n",
       ":   0.61684065934065997.5%\n",
       ":   1.77700549450549\n",
       "\n"
      ],
      "text/plain": [
       "     2.5%     97.5% \n",
       "0.6168407 1.7770055 "
      ]
     },
     "metadata": {},
     "output_type": "display_data"
    },
    {
     "data": {
      "image/png": "[encoded data removed]",
      "text/plain": [
       "Plot with title \"Histogram of mean of bootstrapped sample on time played\""
      ]
     },
     "metadata": {},
     "output_type": "display_data"
    }
   ],
   "source": [
    "boot_means = 1:400\n",
    "for(i in 1:400){\n",
    "  boot_sample = sample(boot_population, size = 91, replace = F)\n",
    "  boot_means[i] = mean(boot_sample)\n",
    "}\n",
    "\n",
    "hist(boot_means, breaks = 20,  main = \"Histogram of mean of bootstrapped sample on time played\", xlab = \"Time played in week prior\")\n",
    "quantile(boot_means, c(0.025, 0.975))"
   ]
  },
  {
   "cell_type": "code",
   "execution_count": 9,
   "metadata": {
    "scrolled": true
   },
   "outputs": [
    {
     "data": {
      "image/png": "[encoded data removed]",
      "text/plain": [
       "Plot with title \"Normal Q-Q Plot\""
      ]
     },
     "metadata": {},
     "output_type": "display_data"
    }
   ],
   "source": [
    "\n",
    "qqnorm(boot_means)\n",
    "qqline(boot_means)"
   ]
  },
  {
   "cell_type": "code",
   "execution_count": null,
   "metadata": {},
   "outputs": [],
   "source": [
    "\n",
    "skewness(boot_means)\n",
    "kurtosis(boot_means)\n",
    "n_sample <- rnorm(n=500)\n",
    "skewness(n_sample)\n",
    "kurtosis(n_sample)\n"
   ]
  },
  {
   "cell_type": "code",
   "execution_count": 12,
   "metadata": {},
   "outputs": [
    {
     "data": {
      "text/html": [
       "1.16064835164835"
      ],
      "text/latex": [
       "1.16064835164835"
      ],
      "text/markdown": [
       "1.16064835164835"
      ],
      "text/plain": [
       "[1] 1.160648"
      ]
     },
     "metadata": {},
     "output_type": "display_data"
    }
   ],
   "source": [
    "mean(boot_means)"
   ]
  },
  {
   "cell_type": "code",
   "execution_count": null,
   "metadata": {},
   "outputs": [],
   "source": [
    "\n"
   ]
  },
  {
   "cell_type": "markdown",
   "metadata": {},
   "source": [
    "# Scenario 4"
   ]
  },
  {
   "cell_type": "markdown",
   "metadata": {},
   "source": [
    "Next consider the ”attitude” questions. In general, do you think the students enjoy playing video games? If you had to make a short list of the most important reasons why students like/dislike video games, what would you put on the list? Don’t forget that those students who say that they have never played video games or do not at all like video games are asked to skip over some of these questions. So, there may be many nonrespondents to the questions as to whether they think video games are educational, where they play video games, etc.            "
   ]
  },
  {
   "cell_type": "code",
   "execution_count": 16,
   "metadata": {},
   "outputs": [
    {
     "data": {
      "image/png": "[encoded data removed]",
      "text/plain": [
       "Plot with title \"Barplot of Responses from 'Like To Play'\""
      ]
     },
     "metadata": {},
     "output_type": "display_data"
    }
   ],
   "source": [
    "# visually show the distribution of 'like to play'\n",
    "barplot(table(survey$like), main=\"Barplot of Responses from 'Like To Play'\",\n",
    "       ylab='Count Of Responses',\n",
    "       names.arg=c('1=never play','2=very much','3=somewhat','4=not really','5=not at all','99=null'),\n",
    "       las=2,cex.names=0.8)"
   ]
  },
  {
   "cell_type": "code",
   "execution_count": 17,
   "metadata": {},
   "outputs": [
    {
     "data": {
      "image/png": "[encoded data removed]",
      "text/plain": [
       "Plot with title \"Batplot of Responses from \"edu\" whom Like Playing\""
      ]
     },
     "metadata": {},
     "output_type": "display_data"
    },
    {
     "data": {
      "image/png": "[encoded data removed]",
      "text/plain": [
       "Plot with title \"Batplot of Responses from \"edu\" whom not Like Playing\""
      ]
     },
     "metadata": {},
     "output_type": "display_data"
    }
   ],
   "source": [
    "# visually show the distribution of variable 'edu' in the sample\n",
    "like <- subset(survey, like==2 | like==3)\n",
    "barplot(table(like$edu), main='Batplot of Responses from \"edu\" whom Like Playing',\n",
    "       names.arg=(c('0=no','1=yes','99=not responded')), ylab='count of responses')\n",
    "\n",
    "# visually shiow the distribution of 'edu' in group that who have played game and not like video games\n",
    "not_like <- subset(survey, like==4 | like==5)\n",
    "barplot(table(not_like$edu), main='Batplot of Responses from \"edu\" whom not Like Playing',\n",
    "       names.arg=(c('0=no','1=yes','99=not responded')), ylab='count of responses')"
   ]
  },
  {
   "cell_type": "code",
   "execution_count": 18,
   "metadata": {},
   "outputs": [
    {
     "data": {
      "text/html": [
       "<dl class=dl-horizontal>\n",
       "\t<dt>action</dt>\n",
       "\t\t<dd>4</dd>\n",
       "\t<dt>adv</dt>\n",
       "\t\t<dd>4</dd>\n",
       "\t<dt>sim</dt>\n",
       "\t\t<dd>4</dd>\n",
       "\t<dt>sport</dt>\n",
       "\t\t<dd>4</dd>\n",
       "\t<dt>strategy</dt>\n",
       "\t\t<dd>4</dd>\n",
       "\t<dt>relax</dt>\n",
       "\t\t<dd>4</dd>\n",
       "\t<dt>coord</dt>\n",
       "\t\t<dd>4</dd>\n",
       "\t<dt>challenge</dt>\n",
       "\t\t<dd>4</dd>\n",
       "\t<dt>master</dt>\n",
       "\t\t<dd>4</dd>\n",
       "\t<dt>bored</dt>\n",
       "\t\t<dd>4</dd>\n",
       "\t<dt>other</dt>\n",
       "\t\t<dd>0</dd>\n",
       "\t<dt>graphic</dt>\n",
       "\t\t<dd>4</dd>\n",
       "\t<dt>time</dt>\n",
       "\t\t<dd>4</dd>\n",
       "\t<dt>frust</dt>\n",
       "\t\t<dd>4</dd>\n",
       "\t<dt>lonely</dt>\n",
       "\t\t<dd>4</dd>\n",
       "\t<dt>rules</dt>\n",
       "\t\t<dd>4</dd>\n",
       "\t<dt>cost</dt>\n",
       "\t\t<dd>4</dd>\n",
       "\t<dt>boring</dt>\n",
       "\t\t<dd>4</dd>\n",
       "\t<dt>friends</dt>\n",
       "\t\t<dd>4</dd>\n",
       "\t<dt>point</dt>\n",
       "\t\t<dd>4</dd>\n",
       "\t<dt>other2</dt>\n",
       "\t\t<dd>0</dd>\n",
       "</dl>\n"
      ],
      "text/latex": [
       "\\begin{description*}\n",
       "\\item[action] 4\n",
       "\\item[adv] 4\n",
       "\\item[sim] 4\n",
       "\\item[sport] 4\n",
       "\\item[strategy] 4\n",
       "\\item[relax] 4\n",
       "\\item[coord] 4\n",
       "\\item[challenge] 4\n",
       "\\item[master] 4\n",
       "\\item[bored] 4\n",
       "\\item[other] 0\n",
       "\\item[graphic] 4\n",
       "\\item[time] 4\n",
       "\\item[frust] 4\n",
       "\\item[lonely] 4\n",
       "\\item[rules] 4\n",
       "\\item[cost] 4\n",
       "\\item[boring] 4\n",
       "\\item[friends] 4\n",
       "\\item[point] 4\n",
       "\\item[other2] 0\n",
       "\\end{description*}\n"
      ],
      "text/markdown": [
       "action\n",
       ":   4adv\n",
       ":   4sim\n",
       ":   4sport\n",
       ":   4strategy\n",
       ":   4relax\n",
       ":   4coord\n",
       ":   4challenge\n",
       ":   4master\n",
       ":   4bored\n",
       ":   4other\n",
       ":   0graphic\n",
       ":   4time\n",
       ":   4frust\n",
       ":   4lonely\n",
       ":   4rules\n",
       ":   4cost\n",
       ":   4boring\n",
       ":   4friends\n",
       ":   4point\n",
       ":   4other2\n",
       ":   0\n",
       "\n"
      ],
      "text/plain": [
       "   action       adv       sim     sport  strategy     relax     coord challenge \n",
       "        4         4         4         4         4         4         4         4 \n",
       "   master     bored     other   graphic      time     frust    lonely     rules \n",
       "        4         4         0         4         4         4         4         4 \n",
       "     cost    boring   friends     point    other2 \n",
       "        4         4         4         4         0 "
      ]
     },
     "metadata": {},
     "output_type": "display_data"
    },
    {
     "data": {
      "text/html": [
       "87"
      ],
      "text/latex": [
       "87"
      ],
      "text/markdown": [
       "87"
      ],
      "text/plain": [
       "[1] 87"
      ]
     },
     "metadata": {},
     "output_type": "display_data"
    }
   ],
   "source": [
    "# check how many null values in each column\n",
    "colSums(is.na(followup))\n",
    "\n",
    "# most of columns contains 4 null values, which indicates that there are four people did not respond to 3 attitude questions at all\n",
    "# drop these four people from the dataset\n",
    "followup_nonull <- drop_na(followup)\n",
    "\n",
    "# check the remaining rows in table\n",
    "nrow(followup_nonull)"
   ]
  },
  {
   "cell_type": "code",
   "execution_count": 19,
   "metadata": {},
   "outputs": [
    {
     "data": {
      "text/html": [
       "<ol class=list-inline>\n",
       "\t<li>'action'</li>\n",
       "\t<li>'adv'</li>\n",
       "\t<li>'sim'</li>\n",
       "\t<li>'sport'</li>\n",
       "\t<li>'strategy'</li>\n",
       "\t<li>'relax'</li>\n",
       "\t<li>'coord'</li>\n",
       "\t<li>'challenge'</li>\n",
       "\t<li>'master'</li>\n",
       "\t<li>'bored'</li>\n",
       "\t<li>'other'</li>\n",
       "\t<li>'graphic'</li>\n",
       "\t<li>'time'</li>\n",
       "\t<li>'frust'</li>\n",
       "\t<li>'lonely'</li>\n",
       "\t<li>'rules'</li>\n",
       "\t<li>'cost'</li>\n",
       "\t<li>'boring'</li>\n",
       "\t<li>'friends'</li>\n",
       "\t<li>'point'</li>\n",
       "\t<li>'other2'</li>\n",
       "</ol>\n"
      ],
      "text/latex": [
       "\\begin{enumerate*}\n",
       "\\item 'action'\n",
       "\\item 'adv'\n",
       "\\item 'sim'\n",
       "\\item 'sport'\n",
       "\\item 'strategy'\n",
       "\\item 'relax'\n",
       "\\item 'coord'\n",
       "\\item 'challenge'\n",
       "\\item 'master'\n",
       "\\item 'bored'\n",
       "\\item 'other'\n",
       "\\item 'graphic'\n",
       "\\item 'time'\n",
       "\\item 'frust'\n",
       "\\item 'lonely'\n",
       "\\item 'rules'\n",
       "\\item 'cost'\n",
       "\\item 'boring'\n",
       "\\item 'friends'\n",
       "\\item 'point'\n",
       "\\item 'other2'\n",
       "\\end{enumerate*}\n"
      ],
      "text/markdown": [
       "1. 'action'\n",
       "2. 'adv'\n",
       "3. 'sim'\n",
       "4. 'sport'\n",
       "5. 'strategy'\n",
       "6. 'relax'\n",
       "7. 'coord'\n",
       "8. 'challenge'\n",
       "9. 'master'\n",
       "10. 'bored'\n",
       "11. 'other'\n",
       "12. 'graphic'\n",
       "13. 'time'\n",
       "14. 'frust'\n",
       "15. 'lonely'\n",
       "16. 'rules'\n",
       "17. 'cost'\n",
       "18. 'boring'\n",
       "19. 'friends'\n",
       "20. 'point'\n",
       "21. 'other2'\n",
       "\n",
       "\n"
      ],
      "text/plain": [
       " [1] \"action\"    \"adv\"       \"sim\"       \"sport\"     \"strategy\"  \"relax\"    \n",
       " [7] \"coord\"     \"challenge\" \"master\"    \"bored\"     \"other\"     \"graphic\"  \n",
       "[13] \"time\"      \"frust\"     \"lonely\"    \"rules\"     \"cost\"      \"boring\"   \n",
       "[19] \"friends\"   \"point\"     \"other2\"   "
      ]
     },
     "metadata": {},
     "output_type": "display_data"
    }
   ],
   "source": [
    "# show the column names in the followup survey\n",
    "colnames(followup)\n",
    "\n",
    "# extract the variables for different table\n",
    "# table 1 summarizes the types of games played\n",
    "table1 <- select(followup_nonull, c('action','adv','sim','sport','strategy'))\n",
    "\n",
    "# table 2 summarizes reasons for playing the game\n",
    "table2 <- select(followup_nonull, c('relax', 'coord', 'challenge','master','bored','graphic'))\n",
    "\n",
    "# table 3 summarizes what students didn't like about the games\n",
    "table3 <- select(followup_nonull, c('time','frust','lonely','rules','cost','boring','friends','point'))"
   ]
  },
  {
   "cell_type": "code",
   "execution_count": 20,
   "metadata": {},
   "outputs": [
    {
     "data": {
      "image/png": "[encoded data removed]",
      "text/plain": [
       "Plot with title \"Barplot of Distribution in Reasons for Playing\""
      ]
     },
     "metadata": {},
     "output_type": "display_data"
    },
    {
     "data": {
      "image/png": "[encoded data removed]",
      "text/plain": [
       "Plot with title \"Barplot of Distribution in Reasons of Not Playing\""
      ]
     },
     "metadata": {},
     "output_type": "display_data"
    }
   ],
   "source": [
    "barplot(sort(colSums(table2)),main='Barplot of Distribution in Reasons for Playing',ylab='Responses Count')\n",
    "barplot(sort(colSums(table3)),main='Barplot of Distribution in Reasons of Not Playing',ylab='Responses Count')"
   ]
  },
  {
   "cell_type": "code",
   "execution_count": null,
   "metadata": {},
   "outputs": [],
   "source": []
  },
  {
   "cell_type": "code",
   "execution_count": null,
   "metadata": {},
   "outputs": [],
   "source": []
  },
  {
   "cell_type": "code",
   "execution_count": null,
   "metadata": {},
   "outputs": [],
   "source": []
  },
  {
   "cell_type": "markdown",
   "metadata": {},
   "source": [
    "# Scenario 5"
   ]
  },
  {
   "cell_type": "markdown",
   "metadata": {},
   "source": [
    "Look for the differences between those who like to play video games and those who don’t. To do this, use the questions in the last part of the survey, and make comparisons between male and female students, those who work for pay and those who don’t, those who own a computer and those who don’t. Graphical display and cross-tabulations are particularly helpful in making these kinds of comparisons. Also, you may want to collapse the range of responses to a question down to two or three possibilities before making these comparisons."
   ]
  },
  {
   "cell_type": "code",
   "execution_count": null,
   "metadata": {},
   "outputs": [],
   "source": []
  },
  {
   "cell_type": "code",
   "execution_count": null,
   "metadata": {},
   "outputs": [],
   "source": []
  },
  {
   "cell_type": "markdown",
   "metadata": {},
   "source": [
    "# Scenario 6 (optional)"
   ]
  },
  {
   "cell_type": "markdown",
   "metadata": {},
   "source": [
    "Just for fun, further investigate the grade that students expect in the course. How will does it match the target distribution used in grade assignment of 20% A’s, 30%B’s,40% c’s and 10%D’s or lower? If the nonrespondents were failing students who no longer bothered to come to the discussion section, would this change the picture ?"
   ]
  },
  {
   "cell_type": "code",
   "execution_count": 23,
   "metadata": {},
   "outputs": [
    {
     "name": "stderr",
     "output_type": "stream",
     "text": [
      "Warning message:\n",
      "\"package 'ggplot2' was built under R version 3.6.3\""
     ]
    }
   ],
   "source": [
    "library(ggplot2)"
   ]
  },
  {
   "cell_type": "code",
   "execution_count": 21,
   "metadata": {},
   "outputs": [],
   "source": [
    "# construct a target distribution by using same size of sample\n",
    "a <- replicate(0.2*91, 4)\n",
    "b <- replicate(0.3*91, 3)\n",
    "c <- c(replicate(0.4*91, 2),1)\n",
    "d <- replicate(0.1*91, 1)\n",
    "target <- c(a,b,c,d)\n",
    "\n",
    "expected <- survey$grade"
   ]
  },
  {
   "cell_type": "code",
   "execution_count": 24,
   "metadata": {},
   "outputs": [
    {
     "data": {
      "image/png": "[encoded data removed]",
      "text/plain": [
       "plot without title"
      ]
     },
     "metadata": {},
     "output_type": "display_data"
    }
   ],
   "source": [
    "# visually show the distributions for two datasets\n",
    "label <- c(replicate(91, 'target'), replicate(91,'expected'))\n",
    "dist <- data.frame(cbind(c(target,expected), label))\n",
    "ggplot(dist, aes(x=V1,fill=label))+geom_bar(position=position_dodge())+\n",
    "ggtitle('Bar Plot For Two Distributions')+xlab('grades')"
   ]
  },
  {
   "cell_type": "code",
   "execution_count": 31,
   "metadata": {},
   "outputs": [
    {
     "name": "stderr",
     "output_type": "stream",
     "text": [
      "Warning message in ks.test(expected, target):\n",
      "\"cannot compute exact p-value with ties\""
     ]
    },
    {
     "data": {
      "text/plain": [
       "\n",
       "\tTwo-sample Kolmogorov-Smirnov test\n",
       "\n",
       "data:  expected and target\n",
       "D = 0.41758, p-value = 2.568e-07\n",
       "alternative hypothesis: two-sided\n"
      ]
     },
     "metadata": {},
     "output_type": "display_data"
    }
   ],
   "source": [
    "# perform ks test to check if the two dataset comes from same distribution\n",
    "# null hypothesis is that these two datasets coming from same distribution\n",
    "ks.test(expected, target)"
   ]
  },
  {
   "cell_type": "code",
   "execution_count": null,
   "metadata": {},
   "outputs": [],
   "source": []
  }
 ],
 "metadata": {
  "kernelspec": {
   "display_name": "R",
   "language": "R",
   "name": "ir"
  },
  "language_info": {
   "codemirror_mode": "r",
   "file_extension": ".r",
   "mimetype": "text/x-r-source",
   "name": "R",
   "pygments_lexer": "r",
   "version": "3.6.1"
  }
 },
 "nbformat": 4,
 "nbformat_minor": 4
}
